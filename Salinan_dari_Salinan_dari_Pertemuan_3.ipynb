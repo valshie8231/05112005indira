{
  "nbformat": 4,
  "nbformat_minor": 0,
  "metadata": {
    "colab": {
      "provenance": [],
      "collapsed_sections": [
        "9XYd2YOJKIfn",
        "G86OWuapNs-V",
        "LW8qtg69VoB7",
        "vwDrDZ5zOo6w"
      ],
      "toc_visible": true,
      "include_colab_link": true
    },
    "kernelspec": {
      "name": "python3",
      "display_name": "Python 3"
    },
    "language_info": {
      "name": "python"
    }
  },
  "cells": [
    {
      "cell_type": "markdown",
      "metadata": {
        "id": "view-in-github",
        "colab_type": "text"
      },
      "source": [
        "<a href=\"https://colab.research.google.com/github/valshie8231/05112005indira/blob/main/Salinan_dari_Salinan_dari_Pertemuan_3.ipynb\" target=\"_parent\"><img src=\"https://colab.research.google.com/assets/colab-badge.svg\" alt=\"Open In Colab\"/></a>"
      ]
    },
    {
      "cell_type": "markdown",
      "source": [
        "# Manipulasi String"
      ],
      "metadata": {
        "id": "R-QsVKtN6QZl"
      }
    },
    {
      "cell_type": "markdown",
      "source": [
        "Proses mengubah-ubah struktur, format, atau isi dari sebuah string.\n",
        "Berikut adalah beberapa contoh manipulasi string dalam python:\n"
      ],
      "metadata": {
        "id": "CsEbAG176WX-"
      }
    },
    {
      "cell_type": "markdown",
      "source": [
        "**Menggabungkan String**"
      ],
      "metadata": {
        "id": "fPphXMAVMQ1v"
      }
    },
    {
      "cell_type": "code",
      "source": [
        "# Menggabungkan string\n",
        "kata1 = \"Halo\"\n",
        "kata2 = \"Dunia\"\n",
        "kalimat_gabungan = kata1 + \"  \" + kata2\n",
        "print(\"Kalimat gabungan:\", kalimat_gabungan) # Output: Halo Dunia"
      ],
      "metadata": {
        "colab": {
          "base_uri": "https://localhost:8080/"
        },
        "id": "HT0YImgbMT81",
        "outputId": "7f2418cb-4187-4b8b-9b73-38a84a15a8ac"
      },
      "execution_count": null,
      "outputs": [
        {
          "output_type": "stream",
          "name": "stdout",
          "text": [
            "Kalimat gabungan: Halo  Dunia\n"
          ]
        }
      ]
    },
    {
      "cell_type": "markdown",
      "source": [
        "**Mengakses String**"
      ],
      "metadata": {
        "id": "L-FBUeJgMjsv"
      }
    },
    {
      "cell_type": "code",
      "source": [
        "kalimat = \"Belajar Python\"\n",
        "print(\"Karakter pertama:\", kalimat[0])\n",
        "print(\"Karakter kedua:\", kalimat[1])\n",
        "print(\"Karakter terakhir:\", kalimat[-1])\n",
        "print(\"Karakter kedua dari belakang:\", kalimat[-2])"
      ],
      "metadata": {
        "colab": {
          "base_uri": "https://localhost:8080/"
        },
        "id": "4PnBw7_BMmiF",
        "outputId": "7eb9d102-9d47-4649-d7e9-461250347a1b"
      },
      "execution_count": null,
      "outputs": [
        {
          "output_type": "stream",
          "name": "stdout",
          "text": [
            "Karakter pertama: B\n",
            "Karakter kedua: e\n",
            "Karakter terakhir: n\n",
            "Karakter kedua dari belakang: o\n"
          ]
        }
      ]
    },
    {
      "cell_type": "markdown",
      "source": [
        "**Memeriksa Awal&Akhir Kalimat String**"
      ],
      "metadata": {
        "id": "uCK60QIyM6a_"
      }
    },
    {
      "cell_type": "code",
      "source": [
        "print(\"Memeriksa awalan string:\", kalimat.startswith(\"Belajar\")) # Output: True\n",
        "print(\"Memeriksa akhiran string:\", kalimat.endswith(\"Python\")) # Output: True"
      ],
      "metadata": {
        "colab": {
          "base_uri": "https://localhost:8080/"
        },
        "id": "H07RWRb7M_sK",
        "outputId": "f55ec46c-9929-405e-96f3-e63225daafb2"
      },
      "execution_count": null,
      "outputs": [
        {
          "output_type": "stream",
          "name": "stdout",
          "text": [
            "Memeriksa awalan string: True\n",
            "Memeriksa akhiran string: True\n"
          ]
        }
      ]
    },
    {
      "cell_type": "markdown",
      "source": [
        "**Membalik String**"
      ],
      "metadata": {
        "id": "8S-aa2tt79Z-"
      }
    },
    {
      "cell_type": "code",
      "source": [
        "# Membalik string\n",
        "def balik_string(teks):\n",
        "    return teks[::-1]\n",
        "\n",
        "# Contoh penggunaan\n",
        "print(balik_string(\"Halo Dunia\"))\n"
      ],
      "metadata": {
        "colab": {
          "base_uri": "https://localhost:8080/"
        },
        "id": "k3MUQf1A6U5S",
        "outputId": "f428d49c-bd0d-41a2-9d15-56ada7730bba"
      },
      "execution_count": null,
      "outputs": [
        {
          "output_type": "stream",
          "name": "stdout",
          "text": [
            "ainuD olaH\n"
          ]
        }
      ]
    },
    {
      "cell_type": "markdown",
      "source": [
        "Penjelasan :\n",
        "1. Sintaks [::-1] digunakan untuk mengambil seluruh karakter dalam string tetapi dalam urutan terbalik.\n"
      ],
      "metadata": {
        "id": "tw7IJG-_8L9I"
      }
    },
    {
      "cell_type": "markdown",
      "source": [
        "Mengubah Huruf Kapital"
      ],
      "metadata": {
        "id": "yOQA6pLN8Z2s"
      }
    },
    {
      "cell_type": "code",
      "source": [
        "ini_kata=\"halo dunia\"\n",
        "print(ini_kata)"
      ],
      "metadata": {
        "colab": {
          "base_uri": "https://localhost:8080/"
        },
        "id": "sQ8McEPxJnrt",
        "outputId": "819bbce7-d9c7-444d-f8f8-a8eb1f0ba6a3"
      },
      "execution_count": null,
      "outputs": [
        {
          "output_type": "stream",
          "name": "stdout",
          "text": [
            "halo dunia\n"
          ]
        }
      ]
    },
    {
      "cell_type": "code",
      "source": [
        "# Mengubah huruf kapital\n",
        "def ubah_kapital(teks):\n",
        "    return teks.upper(), teks.lower(), teks.title()\n",
        "\n",
        "# Contoh penggunaan\n",
        "upper, lower, title = ubah_kapital(ini_kata)\n",
        "print(\"Uppercase:\", upper)\n",
        "print(\"Lowercase:\", lower)\n",
        "print(\"Titlecase:\", title)\n"
      ],
      "metadata": {
        "colab": {
          "base_uri": "https://localhost:8080/"
        },
        "id": "32zuDTU08fv9",
        "outputId": "fd89fb5a-685c-4209-c748-2c3db84b31f3"
      },
      "execution_count": null,
      "outputs": [
        {
          "output_type": "stream",
          "name": "stdout",
          "text": [
            "Uppercase: HALO DUNIA\n",
            "Lowercase: halo dunia\n",
            "Titlecase: Halo Dunia\n"
          ]
        }
      ]
    },
    {
      "cell_type": "markdown",
      "source": [
        "Penjelasan:\n",
        "\n",
        "\n",
        "1.   upper() mengubah semua huruf menjadi huruf besar.\n",
        "2.   lower() mengubah semua huruf menjadi huruf kecil.\n",
        "3.   title() mengubah huruf pertama setiap kata menjadi huruf besar.\n",
        "\n"
      ],
      "metadata": {
        "id": "oVviU1MN8sr7"
      }
    },
    {
      "cell_type": "markdown",
      "source": [
        "**Menghapus Spasi di Awal/Akhir**"
      ],
      "metadata": {
        "id": "ZH3UfzEu889J"
      }
    },
    {
      "cell_type": "code",
      "source": [
        "print(\"   Halo Dunia   \")"
      ],
      "metadata": {
        "colab": {
          "base_uri": "https://localhost:8080/"
        },
        "id": "c1whbLN79Ko8",
        "outputId": "294ee8b5-db89-451d-b2bc-27cead774bca"
      },
      "execution_count": null,
      "outputs": [
        {
          "output_type": "stream",
          "name": "stdout",
          "text": [
            "   Halo Dunia   \n"
          ]
        }
      ]
    },
    {
      "cell_type": "code",
      "source": [
        "# Menghapus spasi di awal dan akhir\n",
        "def hapus_spasi(teks):\n",
        "    return teks.strip()\n",
        "\n",
        "# Contoh penggunaan\n",
        "print(hapus_spasi(\"   Halo Dunia   \"))\n"
      ],
      "metadata": {
        "colab": {
          "base_uri": "https://localhost:8080/"
        },
        "id": "sULs7c3F9DiR",
        "outputId": "e3d0b69f-bdb9-4a74-9e1b-92b92326041c"
      },
      "execution_count": null,
      "outputs": [
        {
          "output_type": "stream",
          "name": "stdout",
          "text": [
            "Halo Dunia\n"
          ]
        }
      ]
    },
    {
      "cell_type": "markdown",
      "source": [
        "Penjelasan:\n",
        "\n",
        "1. Penjelasan: Metode strip() digunakan untuk menghapus spasi putih di awal dan akhir string."
      ],
      "metadata": {
        "id": "0JDbZwH19T7W"
      }
    },
    {
      "cell_type": "markdown",
      "source": [
        "**Mengganti Kata Di String**"
      ],
      "metadata": {
        "id": "VmBlrIHI9Uhk"
      }
    },
    {
      "cell_type": "code",
      "source": [
        "ganti_kata=\"Halo Dunia\"\n",
        "print(\"Kata Diawal Adalah\",ganti_kata)\n",
        "\n",
        "# Mengganti kata di string\n",
        "def ganti_kata(teks, kata_lama, kata_baru):\n",
        "    return teks.replace(kata_lama, kata_baru)\n",
        "\n",
        "# Contoh penggunaan\n",
        "print(ganti_kata(\"Halo Dunia\", \"Dunia\", \"Teman-Teman\"))\n"
      ],
      "metadata": {
        "colab": {
          "base_uri": "https://localhost:8080/"
        },
        "id": "ig3sjZed9huu",
        "outputId": "590e8b7e-b522-445a-e148-b86695eafb56"
      },
      "execution_count": null,
      "outputs": [
        {
          "output_type": "stream",
          "name": "stdout",
          "text": [
            "Kata Diawal Adalah Halo Dunia\n",
            "Halo Teman-Teman\n"
          ]
        }
      ]
    },
    {
      "cell_type": "markdown",
      "source": [
        "Metode replace() mengganti semua kemunculan kata_lama dengan kata_baru dalam string."
      ],
      "metadata": {
        "id": "YueMdVA4-f9h"
      }
    },
    {
      "cell_type": "markdown",
      "source": [
        "**Memeriksa Substring Dalam String**"
      ],
      "metadata": {
        "id": "Uu2I99EC-iMi"
      }
    },
    {
      "cell_type": "code",
      "source": [
        "# Memeriksa apakah substring ada dalam string\n",
        "def cek_substring(teks, substring):\n",
        "    return substring in teks\n",
        "\n",
        "# Contoh penggunaan\n",
        "print(cek_substring(\"Halo Dunia\", \"Dunia\"))  # Output: True\n"
      ],
      "metadata": {
        "colab": {
          "base_uri": "https://localhost:8080/"
        },
        "id": "utWGbGUx_IgR",
        "outputId": "45a9f063-9d2b-482d-934e-920d8a333e0d"
      },
      "execution_count": null,
      "outputs": [
        {
          "output_type": "stream",
          "name": "stdout",
          "text": [
            "True\n"
          ]
        }
      ]
    },
    {
      "cell_type": "markdown",
      "source": [
        "Operator in memeriksa apakah substring ada dalam teks dan mengembalikan True atau False."
      ],
      "metadata": {
        "id": "4lTqyXmz_PSe"
      }
    },
    {
      "cell_type": "markdown",
      "source": [
        "**Memecah String Menjadi List**"
      ],
      "metadata": {
        "id": "HaMRnOFhAJWa"
      }
    },
    {
      "cell_type": "code",
      "source": [
        "# Memecah string menjadi list berdasarkan pemisah\n",
        "def pecah_string(teks, pemisah=\" \"):\n",
        "    return teks.split(pemisah)\n",
        "\n",
        "# Contoh penggunaan\n",
        "print(pecah_string(\"Halo Dunia Python\"))\n"
      ],
      "metadata": {
        "colab": {
          "base_uri": "https://localhost:8080/"
        },
        "id": "M7vV8tpYAOlT",
        "outputId": "ee66a884-1d78-492f-f7ae-fe0fe2170bc5"
      },
      "execution_count": null,
      "outputs": [
        {
          "output_type": "stream",
          "name": "stdout",
          "text": [
            "['Halo', 'Dunia', 'Python']\n"
          ]
        }
      ]
    },
    {
      "cell_type": "markdown",
      "source": [
        " Metode split() memisahkan string berdasarkan pemisah tertentu (default: spasi)."
      ],
      "metadata": {
        "id": "F5xDXpx8AxwI"
      }
    },
    {
      "cell_type": "markdown",
      "source": [
        "**Menggabungkan List menjadi String**"
      ],
      "metadata": {
        "id": "AcYxwJqvA4v1"
      }
    },
    {
      "cell_type": "code",
      "source": [
        "Kata_kakgem=['Jikalau','Kamu','Sedih','Aku','Sedih']\n",
        "print(Kata_kakgem)"
      ],
      "metadata": {
        "colab": {
          "base_uri": "https://localhost:8080/"
        },
        "id": "gEr-08BJA710",
        "outputId": "192e5828-dbd9-495a-e779-e5841aaafa71"
      },
      "execution_count": null,
      "outputs": [
        {
          "output_type": "stream",
          "name": "stdout",
          "text": [
            "['Jikalau', 'Kamu', 'Sedih', 'Aku', 'Sedih']\n"
          ]
        }
      ]
    },
    {
      "cell_type": "code",
      "source": [
        "def gabung_list(list_kata, pemisah=\" \"):\n",
        "    return pemisah.join(list_kata)\n",
        "\n",
        "# Contoh penggunaan\n",
        "kalimat = gabung_list(Kata_kakgem)\n",
        "print(kalimat)\n",
        "\n",
        "kalimat_titik = gabung_list(Kata_kakgem, \".\") #menggunakan titik sebagai pemisah\n",
        "kalimat_titik"
      ],
      "metadata": {
        "colab": {
          "base_uri": "https://localhost:8080/",
          "height": 53
        },
        "id": "XwsqD2yMEZf3",
        "outputId": "d3169b8c-bc90-4b84-8bc9-3aed01d04add"
      },
      "execution_count": null,
      "outputs": [
        {
          "output_type": "stream",
          "name": "stdout",
          "text": [
            "Jikalau Kamu Sedih Aku Sedih\n"
          ]
        },
        {
          "output_type": "execute_result",
          "data": {
            "text/plain": [
              "'Jikalau.Kamu.Sedih.Aku.Sedih'"
            ],
            "application/vnd.google.colaboratory.intrinsic+json": {
              "type": "string"
            }
          },
          "metadata": {},
          "execution_count": 27
        }
      ]
    },
    {
      "cell_type": "markdown",
      "source": [
        "**Metode join() menggabungkan elemen dalam list menjadi string, dipisahkan oleh pemisah.**"
      ],
      "metadata": {
        "id": "Ez_PLQiVBaUL"
      }
    },
    {
      "cell_type": "markdown",
      "source": [
        "**Mengubah String Menjadi Tuple**"
      ],
      "metadata": {
        "id": "CSyZBAyKBgy2"
      }
    },
    {
      "cell_type": "code",
      "source": [
        "def string_ke_tuple(teks, pemisah=\" \"):\n",
        "    return tuple(teks.split(pemisah))\n",
        "\n",
        "# Contoh penggunaan\n",
        "print(string_ke_tuple(\"Halo Dunia Python\"))  # Output: ('Halo', 'Dunia', 'Python')\n",
        "print(string_ke_tuple(\"1,2,3,4\", \",\"))  # Output: ('1', '2', '3', '4')"
      ],
      "metadata": {
        "colab": {
          "base_uri": "https://localhost:8080/"
        },
        "id": "ZUdaDKfZBk5f",
        "outputId": "c1ff954c-29c9-4c21-e2c9-d31d202d3fd5"
      },
      "execution_count": null,
      "outputs": [
        {
          "output_type": "stream",
          "name": "stdout",
          "text": [
            "('Halo', 'Dunia', 'Python')\n",
            "('1', '2', '3', '4')\n"
          ]
        }
      ]
    },
    {
      "cell_type": "markdown",
      "source": [
        "Penjelasan:\n",
        "        teks: String yang akan diubah.\n",
        "        pemisah: Pemisah untuk memecah string (default: spasi).\n",
        "\n",
        "    Returns:\n",
        "        Tuple yang berisi elemen-elemen dari string.\n",
        "  "
      ],
      "metadata": {
        "id": "n4FoBZpCB56O"
      }
    },
    {
      "cell_type": "markdown",
      "source": [
        "**Menghitung karakter atau kata**"
      ],
      "metadata": {
        "id": "-FUq965zE-_p"
      }
    },
    {
      "cell_type": "code",
      "source": [
        "Nama_Terpanjang=\" Hubert Blaine Wolfeschlegelsteinhausenbergerdorff\"\n",
        "print(Nama_Terpanjang)"
      ],
      "metadata": {
        "colab": {
          "base_uri": "https://localhost:8080/"
        },
        "id": "bAyjngIOFEvm",
        "outputId": "83ac2616-4936-4233-b8e3-3493301f2ee0"
      },
      "execution_count": null,
      "outputs": [
        {
          "output_type": "stream",
          "name": "stdout",
          "text": [
            " Hubert Blaine Wolfeschlegelsteinhausenbergerdorff\n"
          ]
        }
      ]
    },
    {
      "cell_type": "code",
      "source": [
        "def hitung_karakter(teks):\n",
        "    return len(teks)\n",
        "\n",
        "def hitung_kata(teks):\n",
        "    kata = teks.split()\n",
        "    return len(kata)\n",
        "\n",
        "# Contoh penggunaan\n",
        "jumlah_karakter = hitung_karakter(Nama_Terpanjang)\n",
        "jumlah_kata = hitung_kata(Nama_Terpanjang)\n",
        "\n",
        "print(\"Jumlah karakter:\", jumlah_karakter)\n",
        "print(\"Jumlah kata:\", jumlah_kata)"
      ],
      "metadata": {
        "colab": {
          "base_uri": "https://localhost:8080/"
        },
        "id": "YX4AL_fKFNdD",
        "outputId": "327fa01f-e4bd-49e8-caf3-c58ba4939276"
      },
      "execution_count": null,
      "outputs": [
        {
          "output_type": "stream",
          "name": "stdout",
          "text": [
            "Jumlah karakter: 50\n",
            "Jumlah kata: 3\n"
          ]
        }
      ]
    },
    {
      "cell_type": "markdown",
      "source": [
        "Penjelasan:\n",
        "\n",
        "1. Fungsi hitung_karakter(teks)\n",
        "\n",
        "*  Menggunakan len(teks) untuk menghitung jumlah semua karakter (termasuk spasi dan tanda baca) dalam string.\n",
        "\n",
        "2. Fungsi hitung_kata(teks)\n",
        "\n",
        "*   Menggunakan teks.split() untuk memecah string menjadi kata-kata berdasarkan spasi, lalu menghitung jumlah kata dengan len().\n",
        "\n",
        "\n",
        "\n",
        "\n",
        "\n"
      ],
      "metadata": {
        "id": "S5e8b-EcFp91"
      }
    },
    {
      "cell_type": "markdown",
      "source": [
        "**Menghapus Karakter Khusus**"
      ],
      "metadata": {
        "id": "K5nFt8-AG8Br"
      }
    },
    {
      "cell_type": "code",
      "source": [
        "ini_kalimatnya=\"$#Hai Saya Willy\"\n",
        "print(ini_kalimatnya)"
      ],
      "metadata": {
        "colab": {
          "base_uri": "https://localhost:8080/"
        },
        "id": "U79OvH7-G_Wn",
        "outputId": "c1a1483a-25e8-44d7-ef75-c833ab010bcc"
      },
      "execution_count": null,
      "outputs": [
        {
          "output_type": "stream",
          "name": "stdout",
          "text": [
            "$#Hai Saya Willy\n"
          ]
        }
      ]
    },
    {
      "cell_type": "code",
      "source": [
        "import re\n",
        "\n",
        "def hapus_karakter_khusus(teks, karakter_khusus):\n",
        "    teks_bersih = re.sub(f\"[{re.escape(karakter_khusus)}]\", \"\", teks)\n",
        "    return teks_bersih\n",
        "\n",
        "# Contoh penggunaan\n",
        "karakter_khusus_yang_ingin_dihapus = \"$#%\"  # karakter yang ingin dihapus\n",
        "kalimat_bersih = hapus_karakter_khusus(ini_kalimatnya, karakter_khusus_yang_ingin_dihapus)\n",
        "print(kalimat_bersih)"
      ],
      "metadata": {
        "colab": {
          "base_uri": "https://localhost:8080/"
        },
        "id": "PdlidmWzHNxM",
        "outputId": "b61bf9c0-1894-469e-8d8c-a53192c7fbbf"
      },
      "execution_count": null,
      "outputs": [
        {
          "output_type": "stream",
          "name": "stdout",
          "text": [
            "Hai Saya Willy\n"
          ]
        }
      ]
    },
    {
      "cell_type": "markdown",
      "source": [
        "Penjelasan:\n",
        "Fungsi hapus_karakter_khusus(teks, karakter_khusus)\n",
        "\n",
        "\n",
        "*   Tujuan: Menghapus karakter khusus tertentu dari string.\n",
        "*   Cara Kerja:\n",
        "1. re.escape(karakter_khusus): Melindungi karakter khusus agar diproses sebagai teks literal dalam regex.\n",
        "2. re.sub(f\"[{re.escape(karakter_khusus)}]\", \"\", teks): Mengganti semua karakter yang cocok dengan kumpulan karakter_khusus dalam teks dengan string kosong (\"\"), sehingga karakter tersebut dihapus.\n",
        "\n"
      ],
      "metadata": {
        "id": "5N5V0CLeIEuu"
      }
    },
    {
      "cell_type": "markdown",
      "source": [
        "**Membalik Urutan Kata**"
      ],
      "metadata": {
        "id": "EtwLGARYI82d"
      }
    },
    {
      "cell_type": "code",
      "source": [
        "text_contoh=\"Halo Nama Saya Tegar\"\n",
        "print(text_contoh)"
      ],
      "metadata": {
        "colab": {
          "base_uri": "https://localhost:8080/"
        },
        "id": "x_Lm4gYHI_qk",
        "outputId": "2c0f5c36-bb4a-4c3a-82ba-0e22296ffdc3"
      },
      "execution_count": null,
      "outputs": [
        {
          "output_type": "stream",
          "name": "stdout",
          "text": [
            "Halo Nama Saya Tegar\n"
          ]
        }
      ]
    },
    {
      "cell_type": "code",
      "source": [
        "def balik_kata(teks):\n",
        "  kata = teks.split()\n",
        "  balik = kata[::-1]\n",
        "  return \" \".join(balik)\n",
        "\n",
        "  print(balik_kata(text_contoh))"
      ],
      "metadata": {
        "id": "ki2OQanvJS1g"
      },
      "execution_count": null,
      "outputs": []
    },
    {
      "cell_type": "markdown",
      "source": [
        "# Slicing Pada String"
      ],
      "metadata": {
        "id": "9XYd2YOJKIfn"
      }
    },
    {
      "cell_type": "code",
      "source": [
        "sliceing_string=\"Saya Sedang Belajar Python\"\n",
        "print(sliceing_string)"
      ],
      "metadata": {
        "colab": {
          "base_uri": "https://localhost:8080/"
        },
        "id": "ki75ug5AKhsz",
        "outputId": "049b86ba-a4ec-4841-a0d2-fc6d8a5cebac"
      },
      "execution_count": null,
      "outputs": [
        {
          "output_type": "stream",
          "name": "stdout",
          "text": [
            "Saya Sedang Belajar Python\n"
          ]
        }
      ]
    },
    {
      "cell_type": "code",
      "source": [
        "# Contoh slicing\n",
        "print(sliceing_string[:4])   # Mengambil karakter pertama hingga ke-4\n",
        "print(sliceing_string[5:11]) # Mengambil karakter ke-5 hingga ke-10\n",
        "print(sliceing_string[12:19]) # Mengambil karakter ke-12 hingga ke-18\n",
        "print(sliceing_string[-6:])  # Mengambil 6 karakter terakhir\n",
        "print(sliceing_string[::-1]) # Membalik seluruh string"
      ],
      "metadata": {
        "colab": {
          "base_uri": "https://localhost:8080/",
          "height": 211
        },
        "id": "lutkGjlxKrmi",
        "outputId": "5868f4a8-3a99-41ff-a79a-522f787cd0db"
      },
      "execution_count": null,
      "outputs": [
        {
          "output_type": "error",
          "ename": "NameError",
          "evalue": "name 'sliceing_string' is not defined",
          "traceback": [
            "\u001b[0;31m---------------------------------------------------------------------------\u001b[0m",
            "\u001b[0;31mNameError\u001b[0m                                 Traceback (most recent call last)",
            "\u001b[0;32m<ipython-input-12-3af1a43df18c>\u001b[0m in \u001b[0;36m<cell line: 2>\u001b[0;34m()\u001b[0m\n\u001b[1;32m      1\u001b[0m \u001b[0;31m# Contoh slicing\u001b[0m\u001b[0;34m\u001b[0m\u001b[0;34m\u001b[0m\u001b[0m\n\u001b[0;32m----> 2\u001b[0;31m \u001b[0mprint\u001b[0m\u001b[0;34m(\u001b[0m\u001b[0msliceing_string\u001b[0m\u001b[0;34m[\u001b[0m\u001b[0;34m:\u001b[0m\u001b[0;36m4\u001b[0m\u001b[0;34m]\u001b[0m\u001b[0;34m)\u001b[0m   \u001b[0;31m# Mengambil karakter pertama hingga ke-4\u001b[0m\u001b[0;34m\u001b[0m\u001b[0;34m\u001b[0m\u001b[0m\n\u001b[0m\u001b[1;32m      3\u001b[0m \u001b[0mprint\u001b[0m\u001b[0;34m(\u001b[0m\u001b[0msliceing_string\u001b[0m\u001b[0;34m[\u001b[0m\u001b[0;36m5\u001b[0m\u001b[0;34m:\u001b[0m\u001b[0;36m11\u001b[0m\u001b[0;34m]\u001b[0m\u001b[0;34m)\u001b[0m \u001b[0;31m# Mengambil karakter ke-5 hingga ke-10\u001b[0m\u001b[0;34m\u001b[0m\u001b[0;34m\u001b[0m\u001b[0m\n\u001b[1;32m      4\u001b[0m \u001b[0mprint\u001b[0m\u001b[0;34m(\u001b[0m\u001b[0msliceing_string\u001b[0m\u001b[0;34m[\u001b[0m\u001b[0;36m12\u001b[0m\u001b[0;34m:\u001b[0m\u001b[0;36m19\u001b[0m\u001b[0;34m]\u001b[0m\u001b[0;34m)\u001b[0m \u001b[0;31m# Mengambil karakter ke-12 hingga ke-18\u001b[0m\u001b[0;34m\u001b[0m\u001b[0;34m\u001b[0m\u001b[0m\n\u001b[1;32m      5\u001b[0m \u001b[0mprint\u001b[0m\u001b[0;34m(\u001b[0m\u001b[0msliceing_string\u001b[0m\u001b[0;34m[\u001b[0m\u001b[0;34m-\u001b[0m\u001b[0;36m6\u001b[0m\u001b[0;34m:\u001b[0m\u001b[0;34m]\u001b[0m\u001b[0;34m)\u001b[0m  \u001b[0;31m# Mengambil 6 karakter terakhir\u001b[0m\u001b[0;34m\u001b[0m\u001b[0;34m\u001b[0m\u001b[0m\n",
            "\u001b[0;31mNameError\u001b[0m: name 'sliceing_string' is not defined"
          ]
        }
      ]
    },
    {
      "cell_type": "markdown",
      "source": [
        "# Concatenation String"
      ],
      "metadata": {
        "id": "G86OWuapNs-V"
      }
    },
    {
      "cell_type": "code",
      "source": [
        "# Variabel string\n",
        "kata1 = \"Belajar\"\n",
        "kata2 = \"Python\"\n",
        "kata3 = \"Sangat Menyenangkan\"\n",
        "\n",
        "# Concatenation menggunakan operator +\n",
        "hasil = kata1 + \" \" + kata2 + \" \" + kata3\n",
        "print(hasil)\n",
        "\n",
        "# Concatenation menggunakan f-string (format string)\n",
        "hasil_fstring = f\"{kata1} {kata2} {kata3}\"\n",
        "print(hasil_fstring)\n",
        "\n",
        "# Concatenation menggunakan method join()\n",
        "daftar_kata = [kata1, kata2, kata3]\n",
        "hasil_join = \" \".join(daftar_kata)\n",
        "print(hasil_join)\n"
      ],
      "metadata": {
        "colab": {
          "base_uri": "https://localhost:8080/"
        },
        "id": "BaAME-tnOJsV",
        "outputId": "fffd4d6f-2665-463f-e966-2750a672f1dc"
      },
      "execution_count": null,
      "outputs": [
        {
          "output_type": "stream",
          "name": "stdout",
          "text": [
            "Belajar Python Sangat Menyenangkan\n",
            "Belajar Python Sangat Menyenangkan\n",
            "Belajar Python Sangat Menyenangkan\n"
          ]
        }
      ]
    },
    {
      "cell_type": "markdown",
      "source": [
        "# Library  Python"
      ],
      "metadata": {
        "id": "LW8qtg69VoB7"
      }
    },
    {
      "cell_type": "markdown",
      "source": [
        "**NUMPY**\n",
        "NumPy (Numerical Python) adalah library Python untuk komputasi ilmiah. Digunakan untuk:\n",
        "\n",
        "\n",
        "*   Operasi matematis pada array multidimensi.\n",
        "*   Manipulasi data numerik.\n",
        "*   Pengolahan data dengan performa tinggi.\n",
        "\n",
        "\n",
        "\n",
        "\n"
      ],
      "metadata": {
        "id": "SAoydUzjV0Hk"
      }
    },
    {
      "cell_type": "code",
      "source": [
        "import numpy as np\n",
        "\n",
        "# Fungsi trigonometri\n",
        "angle = np.pi / 4  # 45 derajat dalam radian\n",
        "sin_value = np.sin(angle)\n",
        "cos_value = np.cos(angle)\n",
        "\n",
        "print(f\"Sin(45°): {sin_value}\")\n",
        "print(f\"Cos(45°): {cos_value}\")\n",
        "\n",
        "# Fungsi eksponensial dan logaritma\n",
        "exp_value = np.exp(2)  # e^2\n",
        "log_value = np.log(10) # log natural\n",
        "\n",
        "print(f\"e^2: {exp_value}\")\n",
        "print(f\"Log(10): {log_value}\")\n"
      ],
      "metadata": {
        "colab": {
          "base_uri": "https://localhost:8080/"
        },
        "id": "zt39iotXWNAp",
        "outputId": "4f186537-8817-4f83-f94e-51c33b62e5d0"
      },
      "execution_count": null,
      "outputs": [
        {
          "output_type": "stream",
          "name": "stdout",
          "text": [
            "Sin(45°): 0.7071067811865475\n",
            "Cos(45°): 0.7071067811865476\n",
            "e^2: 7.38905609893065\n",
            "Log(10): 2.302585092994046\n"
          ]
        }
      ]
    },
    {
      "cell_type": "markdown",
      "source": [
        "Penjelasan:\n",
        "1. Fungsi Trigonometri (np.sin() dan np.cos()):\n",
        "\n",
        "\n",
        "*   np.pi / 4: Menghitung sudut 45 derajat dalam bentuk radian (karena NumPy menggunakan radian untuk perhitungan trigonometri).\n",
        "*   np.sin(angle): Menghitung nilai sinus dari sudut 45 derajat.\n",
        "*   np.cos(angle): Menghitung nilai cosinus dari sudut 45 derajat.\n",
        "\n",
        "2. Fungsi Eksponensial dan Logaritma:\n",
        "\n",
        "\n",
        "*   np.exp(2): Menghitung eksponensial dari angka 2, yaitu e^2 (nilai sekitar 7.389).\n",
        "*   np.log(10): Menghitung logaritma natural dari 10 (basis e), yang menghasilkan nilai sekitar 2.3026.\n",
        "\n",
        "\n",
        "\n",
        "\n",
        "\n"
      ],
      "metadata": {
        "id": "U6bywRT9W8qd"
      }
    },
    {
      "cell_type": "markdown",
      "source": [
        "**PANDAS**\n",
        "Pandas adalah pustaka Python untuk analisis dan manipulasi data. Mendukung operasi data berbasis tabel dan time-series.\n",
        "Digunakan untuk:\n",
        "\n",
        "\n",
        "*   Membaca dan menulis data dari berbagai format (CSV, Excel, SQL, JSON, dll.).\n",
        "*   Membersihkan, mengolah, dan menganalisis data dengan efisien.\n",
        "\n"
      ],
      "metadata": {
        "id": "sUrI4XisXlNf"
      }
    },
    {
      "cell_type": "code",
      "source": [
        "import pandas as pd\n",
        "\n",
        "# Membuat DataFrame sederhana\n",
        "data = {'Nama': ['Alice', 'Bob', 'Charlie'],\n",
        "        'Usia': [25, 30, 28],\n",
        "        'Kota': ['New York', 'London', 'Paris']}\n",
        "df = pd.DataFrame(data)\n",
        "\n",
        "# Menampilkan DataFrame\n",
        "print(df)\n",
        "\n",
        "# Mengakses kolom tertentu\n",
        "print(df['Nama'])\n",
        "\n",
        "# Mengakses baris tertentu\n",
        "print(df.loc[0]) #Menggunakan label baris\n",
        "\n",
        "print(df.iloc[0]) #Menggunakan index baris"
      ],
      "metadata": {
        "colab": {
          "base_uri": "https://localhost:8080/"
        },
        "id": "XWLtD3nuX4Cf",
        "outputId": "f9ecef81-f786-46ac-eeb1-238d562a58e3"
      },
      "execution_count": null,
      "outputs": [
        {
          "output_type": "stream",
          "name": "stdout",
          "text": [
            "      Nama  Usia      Kota\n",
            "0    Alice    25  New York\n",
            "1      Bob    30    London\n",
            "2  Charlie    28     Paris\n",
            "0      Alice\n",
            "1        Bob\n",
            "2    Charlie\n",
            "Name: Nama, dtype: object\n",
            "Nama       Alice\n",
            "Usia          25\n",
            "Kota    New York\n",
            "Name: 0, dtype: object\n",
            "Nama       Alice\n",
            "Usia          25\n",
            "Kota    New York\n",
            "Name: 0, dtype: object\n"
          ]
        }
      ]
    },
    {
      "cell_type": "markdown",
      "source": [
        "Penjelasan:\n",
        "\n",
        "\n",
        "*   pd.DataFrame(): Digunakan untuk membuat DataFrame dari data yang disediakan dalam bentuk dictionary atau struktur lainnya.\n",
        "*   df['Nama']: Mengakses kolom tertentu (dalam hal ini kolom 'Nama').\n",
        "*   df.loc[]: Mengakses baris menggunakan label baris.\n",
        "*   df.iloc[]: Mengakses baris menggunakan index numerik.\n",
        "\n",
        "\n",
        "\n"
      ],
      "metadata": {
        "id": "-1umF5hyYbX_"
      }
    },
    {
      "cell_type": "markdown",
      "source": [
        "# Praktek Time"
      ],
      "metadata": {
        "id": "vwDrDZ5zOo6w"
      }
    },
    {
      "cell_type": "markdown",
      "source": [
        "**Soal No 1**\n",
        "\n",
        "Manipulasi String dengan Slicing\n",
        "\n",
        "kalimat = \"Hari Ini Adalah Hari Ketiga Saya Mengikuti Kegiatan Ngobar\"\n",
        "\n",
        "\n",
        "\n",
        "*   Ambil dan tampilkan 6 karakter pertama dari string tersebut.\n",
        "*   Ambil dan tampilkan 5 karakter terakhir dari string tersebut.\n",
        "\n",
        "*   Ambil dan tampilkan kata \"Ketiga\" dari string tersebut.\n",
        "*   Tampilkan string tersebut dengan urutan terbalik.\n",
        "\n",
        "\n",
        "\n",
        "\n"
      ],
      "metadata": {
        "id": "VoNpaJUAOr5o"
      }
    },
    {
      "cell_type": "markdown",
      "source": [
        "**Soal No 2**\n",
        "\n",
        "Concatenation String\n",
        "\n",
        "Buatlah 3 Variabel String (Kalimatnya Terserah) Lalu Kerjakan:\n",
        "\n",
        "\n",
        "*   Gabungkan ketiga Variabel menggunakan operator + dan tampilkan hasilnya.\n",
        "*   Gabungkan ketiga Variabel menggunakan f-string dan tampilkan hasilnya.\n",
        "\n",
        "\n",
        "\n",
        "*   Gabungkan ketiga kata di atas menggunakan method .join() dan tampilkan hasilnya.\n"
      ],
      "metadata": {
        "id": "C3OT6AeIPXy7"
      }
    },
    {
      "cell_type": "markdown",
      "source": [
        "**Soal No 3**\n",
        "Menghitung Jumlah Karakter dan Kata\n",
        "\n",
        "tex_soal=\"aku adalah seorang kapten dari sebuah tim sepak bola liga 3 liga belgia\"\n",
        "\n",
        "yang harus dilakukan:\n",
        "\n",
        "\n",
        "*   Hitung dan tampilkan jumlah karakter dalam string tersebut.\n",
        "*   Hitung dan tampilkan jumlah kata dalam string tersebut.\n",
        "\n"
      ],
      "metadata": {
        "id": "jcicrkSLP_Ch"
      }
    },
    {
      "cell_type": "markdown",
      "source": [
        "**Soal No 4**\n",
        "\n",
        "Hitunglah nilai rata-rata, nilai minimum, dan nilai maksimum dari array NumPy berikut:\n",
        "\n",
        "import numpy as np\n",
        "\n",
        "arr = np.array([1, 5, 2, 9, 7, 3])\n",
        "\n",
        "Yang Harus Dilakukan\n",
        "\n",
        "1. Import library NumPy dan buat array seperti yang ditunjukkan di atas.\n",
        "2. Gunakan fungsi-fungsi NumPy yang sesuai untuk menghitung nilai rata-rata (mean), nilai minimum (min), dan nilai maksimum (max) dari array tersebut.\n",
        "3. Tampilkan hasil perhitungan tersebut.\n",
        "Petunjuk:"
      ],
      "metadata": {
        "id": "rCnYa1zbZFrv"
      }
    }
  ]
}